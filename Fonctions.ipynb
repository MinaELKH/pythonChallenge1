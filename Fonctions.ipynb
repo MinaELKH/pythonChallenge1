{
 "cells": [
  {
   "cell_type": "markdown",
   "id": "21dfa672",
   "metadata": {},
   "source": [
    "<center>\n",
    "<H1><span style=\"text-align: center; font-weight: bold; color: #746bb3ff;\">Les Fonctions</span></H1>\n",
    "</center>"
   ]
  },
  {
   "cell_type": "markdown",
   "id": "4280dbf3",
   "metadata": {},
   "source": [
    "<H3><span style=\"font-weight: bold ; color: #19b7f1ff\">Les ressources: </span></H3> \n",
    "\n",
    "\n",
    "* [Python Functions](https://realpython.com/defining-your-own-python-function/#abstraction)\n",
    "* [Documentation Officielle de Python](https://docs.python.org/fr/3/tutorial/controlflow.html#defining-functions)"
   ]
  },
  {
   "cell_type": "markdown",
   "id": "e83d584f",
   "metadata": {},
   "source": [
    "<H3><span style=\"font-weight: bold; color: #1a8bcdff;\">Challenge 1 : Présentation personnalisé</span></H3>\n",
    "\n",
    "1. <span style=\"font-weight: bold; color: #e56922ff;\">Objectif</span> : </br>\n",
    "Réutiliser un programme existant (Challenge 2) en le structurant dans une fonction nommée horaire_sup.\n",
    "\n",
    "2. <span style=\"font-weight: bold; color: #e56922ff;\">Travail à faire</span>:</br>\n",
    "Réécris le programme du Challenge 2 dans une fonction appelée horaire_sup."
   ]
  },
  {
   "cell_type": "code",
   "execution_count": 2,
   "id": "b3439d44",
   "metadata": {},
   "outputs": [
    {
     "name": "stdout",
     "output_type": "stream",
     "text": [
      "Entrez ton nom\n",
      "Entrez ton salaire horaire\n",
      "Entrez tes heures de trvaille\n",
      "Bonjour,minavous avez travaille5.0supplimentaire et vous avez gagné 75.0avec un salaire total de 475.0\n"
     ]
    }
   ],
   "source": [
    "def horaire_supp() :\n",
    "    print('Entrez ton nom')#  Écrivez du code Python ici\n",
    "    nom=input()\n",
    "    print('Entrez ton salaire horaire')#  Écrivez du code Python ici\n",
    "    salaireHoraire=float(input())\n",
    "    print('Entrez tes heures de trvaille')#  Écrivez du code Python ici\n",
    "    horaire=float(input())\n",
    "    #  Écrivez du code Python ici Écrivez du code Python ici\n",
    "\n",
    "    if horaire>40 :\n",
    "        horSup = horaire-40\n",
    "        salSup =(horSup * salaireHoraire * 1.5)\n",
    "        salaireTotal = 40*salaireHoraire + salSup\n",
    "\n",
    "    print('Bonjour,' + nom + 'vous avez travaille' + str(horSup) + 'supplimentaire et vous avez gagné ' + str(salSup) + 'avec un salaire total de ' + str(salaireTotal) )\n",
    "\n",
    "\n",
    "horaire_supp()"
   ]
  },
  {
   "cell_type": "markdown",
   "id": "77631c7d",
   "metadata": {},
   "source": [
    "<H3><span style=\"font-weight: bold; color: #1a8bcdff;\">Challenge 2 : Fonction calculation() – somme et différence</span></H3>\n",
    "\n",
    "1. <span style=\"font-weight: bold; color: #e56922ff;\">Objectif</span> : </br>\n",
    "Apprendre à écrire une fonction avec plusieurs paramètres et plusieurs valeurs de retour.\n",
    "\n",
    "2. <span style=\"font-weight: bold; color: #e56922ff;\">Travail à faire</span>:</br>\n",
    "Écris une fonction calculation() qui prend deux arguments et calcule leur somme ainsi que leur différence. La fonction doit ensuite retourner les deux résultats dans une seule instruction return."
   ]
  },
  {
   "cell_type": "code",
   "execution_count": 1,
   "id": "323a8b4a",
   "metadata": {},
   "outputs": [
    {
     "name": "stdout",
     "output_type": "stream",
     "text": [
      "[5, -1]\n"
     ]
    }
   ],
   "source": [
    "def calculation(a , b ) : \n",
    "    som = a+b\n",
    "    sou = a-b \n",
    "    arg = [som , sou]\n",
    "    return arg \n",
    "\n",
    "l = calculation(2 , 3 )\n",
    "print(l)\n"
   ]
  },
  {
   "cell_type": "markdown",
   "id": "c2081304",
   "metadata": {},
   "source": [
    "<H3><span style=\"font-weight: bold; color: #1a8bcdff;\">Challenge 3 : Mini-projets algorithmiques regroupés</span></H3>\n",
    "\n",
    "1. <span style=\"font-weight: bold; color: #e56922ff;\">Objectif</span> : </br>\n",
    "Développer plusieurs petites fonctions indépendantes, chacune ciblant une compétence précise\n",
    "\n",
    "2. <span style=\"font-weight: bold; color: #e56922ff;\">Travail à faire</span>:</br>\n",
    "- Demander à l’utilisateur de saisir un nombre entier n et afficher la factorielle de ce nombre (n!).\n",
    "- Demander à l’utilisateur un nombre entier m et afficher sa table de multiplication de 1 à 10.\n",
    "- Demander à l’utilisateur un nombre entier L et indiquer s’il s’agit d’un carré parfait.\n",
    "- Demander une chaîne de caractères à l’utilisateur, puis afficher chaque caractère un par un.\n",
    "- Demander une phrase à l’utilisateur et afficher le mot le plus long de cette phrase.\n",
    "- Demander une chaîne de caractères Ch et afficher le nombre d’occurrences de chaque caractère. Exemple : Pour Ch = “artificial intelligence developer” \n",
    "- Le programme doit afficher : Le caractère \"i\" figure 5 fois dans la chaîne Ch."
   ]
  },
  {
   "cell_type": "code",
   "execution_count": null,
   "id": "a06adf5c",
   "metadata": {},
   "outputs": [
    {
     "name": "stdout",
     "output_type": "stream",
     "text": [
      "le nombre d'occurrences m  est  4\n",
      "m est trouvé aux indices [0, 7, 12, 17]\n"
     ]
    }
   ],
   "source": [
    "import math \n",
    "\n",
    "\n",
    "######################## factorielle\n",
    "def fact(n) :\n",
    "    i = 1\n",
    "    f = 1\n",
    "    while i<=n:\n",
    "        f = f * i\n",
    "        i+=1\n",
    "    print(f)\n",
    "\n",
    "fact(int(input(\"entrer un nombre\")))\n",
    "\n",
    "\n",
    "######################## multiplication \n",
    "def multi(n) :\n",
    "    i = 0\n",
    "    while i<=10:\n",
    "        print(f\"{n} * {i} = {n*i}\")\n",
    "        i += 1\n",
    "\n",
    "\n",
    "multi(int(input(\"entrer un nombre\")))\n",
    "\n",
    "\n",
    "\n",
    "########################  carre parfait\n",
    "def carre(n) :\n",
    "    res = math.sqrt(n) \n",
    "    if(isinstance(type , int)) :\n",
    "        print (f\"carre parfait de {res}\")\n",
    "    else : \n",
    "        print (f\"pas un carre parfait {res}\")\n",
    "carre(int(input(\"entrer un nombre\")))   \n",
    "\n",
    "#####################   caractere par caractere\n",
    "\n",
    "\n",
    "def caractere(liste) : \n",
    "    for x in liste : \n",
    "        print(x) \n",
    "    \n",
    "caractere((input(\"entrer un mot\")))\n",
    "\n",
    "#####################   Mot plus long\n",
    "def motlong(phrase) : \n",
    "        list1 = []\n",
    "        mot = \"\"\n",
    "        dic ={}\n",
    "        motlong =\"\"\n",
    "        for x in phrase : \n",
    "            if(x != \" \") : \n",
    "                mot += x\n",
    "            else: \n",
    "                dic[mot] = len(mot)\n",
    "                mot=\"\"\n",
    "        if(mot != \" \")   : \n",
    "            dic[mot] = len(mot)\n",
    "        print(dic)\n",
    "\n",
    "        size=0\n",
    "        for y in dic :\n",
    "             if(dic[y]>size) :\n",
    "                size = dic[y]\n",
    "                motlong = y\n",
    "        print(f\"le mot le plus long est{motlong}\")\n",
    "\n",
    "motlong((input(\"entrer une phrase\")))\n",
    "\n",
    "#####################   occurence\n",
    "\n",
    "def nombreOccurence(mot , liste ) :\n",
    "    indice =[]\n",
    "    i=0\n",
    "    for x in liste : \n",
    "        if(x==mot) :\n",
    "            indice.append(i)\n",
    "        i+=1\n",
    "    if len(indice) != 0 : \n",
    "        print (f\"le nombre d'occurrences {mot}  est  {len(indice)}\")\n",
    "        print (f\"{mot} est trouvé aux indices {indice}\")\n",
    "    else : \n",
    "        print ('le caractere est introuvable')\n",
    "\n",
    "nombreOccurence(input(\"entrer charactere\"), input(\"entrer chaine\"))"
   ]
  }
 ],
 "metadata": {
  "kernelspec": {
   "display_name": "Python 3",
   "language": "python",
   "name": "python3"
  },
  "language_info": {
   "codemirror_mode": {
    "name": "ipython",
    "version": 3
   },
   "file_extension": ".py",
   "mimetype": "text/x-python",
   "name": "python",
   "nbconvert_exporter": "python",
   "pygments_lexer": "ipython3",
   "version": "3.13.7"
  }
 },
 "nbformat": 4,
 "nbformat_minor": 5
}
