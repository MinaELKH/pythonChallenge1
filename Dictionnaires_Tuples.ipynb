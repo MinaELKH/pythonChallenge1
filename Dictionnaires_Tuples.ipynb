{
 "cells": [
  {
   "cell_type": "markdown",
   "id": "914e84e2",
   "metadata": {},
   "source": [
    "<center>\n",
    "<H1><span style=\"text-align: center; font-weight: bold; color: #746bb3ff;\">Les Dictionnaires & Tuples</span></H1>\n",
    "</center>"
   ]
  },
  {
   "cell_type": "markdown",
   "id": "4904b5d8",
   "metadata": {},
   "source": [
    "<H3><span style=\"font-weight: bold ; color: #19b7f1ff\">Les ressources: </span></H3> \n",
    "\n",
    "**Documentation Officielle** : \n",
    "* [Dictionnaires](https://docs.python.org/fr/3/tutorial/datastructures.html#dictionaries) \n",
    "* [Tuples](https://docs.python.org/fr/3/tutorial/datastructures.html#tuples-and-sequences)"
   ]
  },
  {
   "cell_type": "markdown",
   "id": "6ba65839",
   "metadata": {},
   "source": [
    "<H3><span style=\"font-weight: bold; color: #1a8bcdff;\">Challenge 1 : Manipulation des dictionnaires Python</span></H3>\n",
    "\n",
    "1. <span style=\"font-weight: bold; color: #e56922ff;\">Objectif</span> : </br>\n",
    "Apprendre à manipuler des dictionnaires en Python à travers plusieurs opérations clés\n",
    "\n",
    "2. <span style=\"font-weight: bold; color: #e56922ff;\">Travail à faire</span>:</br>\n",
    "Considérons le dictionnaire suivant :\n",
    "\n",
    "<code>\n",
    "First_dict = { \"Appareil\": \"Laptop\", \"Marque\": \"IBM\", \"Carte mère\": \"MSI Z490\", \"Carte Graphique\":\"GeForce RTX 3070\", \"RAM\": \"16G\", \"Processeur\": \"Intel core i7-G11\", \"SSD\": \"1 To\" }    </code>\n",
    "\n",
    "- *Parti 1:* Écris un programme Python qui effectue les opérations suivantes :\n",
    "\n",
    "1. Corriger la valeur associée à la clé \"RAM\" pour qu’elle devienne \"32G\".\n",
    "\n",
    "2. Afficher successivement :\n",
    "\n",
    "3. La liste des clés du dictionnaire\n",
    "\n",
    "4. La liste des valeurs\n",
    "\n",
    "5. La liste des paires clé-valeur\n",
    "\n",
    "6. Inverser les paires \"Processeur\" : \"Intel core i7-G11\" et \"Carte Graphique\" : \"GeForce RTX 3070\"\n",
    "\n",
    "7. Ajouter la paire clé-valeur suivante : \"Système d’exploitation\": \"Windows 10\"\n",
    "\n",
    "- *Parti 2:* On considère le dictionnaire suivant dont les clés sont les noms des élèves et les valeurs des clés sont les moyennes générales obtenues en passant l’examen final.\n",
    "\n",
    "<code>notes_eleves = { \"Amine\": 15.5, \"Yassine\": 19.0, \"Reda\": 14.2, \"Malak\": 8.7, \"Manal\": 20.0, \"Ahmed\": 7.5,\"Saad\": 11.3, \"Hannae\": 9.8 }</code>\n",
    "\n",
    "Écrire un programme Python qui partitionne ce dictionnaire en deux sous dictionnaires :\n",
    "\n",
    "* etudiantAdmis dont les clés sont les étudiants admis et les valeurs des clés sont les moyennes obtenues (moyenne supérieures ou égales à 10 ).\n",
    "\n",
    "* etudiantNonAdmis dont les clés sont les étudiants non admis et les valeurs des clés sont les moyennes obtenues (moyenne inférieur ou égale à 10). "
   ]
  },
  {
   "cell_type": "code",
   "execution_count": 40,
   "id": "0fc954a1",
   "metadata": {},
   "outputs": [
    {
     "name": "stdout",
     "output_type": "stream",
     "text": [
      "### 1 ###\n",
      "###  3 ###\n",
      "Appareil\n",
      "Marque\n",
      "Carte mère\n",
      "Carte Graphique\n",
      "RAM\n",
      "Processeur\n",
      "SSD\n",
      "### 4 ###\n",
      "Laptop\n",
      "IBM\n",
      "MSI Z490\n",
      "GeForce RTX 3070\n",
      "32G\n",
      "Intel core i7-G11\n",
      "1 To\n",
      "### 6 #######################################\n",
      "{'Appareil': 'Laptop', 'Marque': 'IBM', 'Carte mère': 'MSI Z490', 'RAM': '32G', 'SSD': '1 To', 'Intel core i7-G11': 'Processeur', 'GeForce RTX 3070': 'Carte Graphique'}\n",
      "### 5 ###\n",
      "Appareil : Laptop\n",
      "Marque : IBM\n",
      "Carte mère : MSI Z490\n",
      "RAM : 32G\n",
      "SSD : 1 To\n",
      "Intel core i7-G11 : Processeur\n",
      "GeForce RTX 3070 : Carte Graphique\n",
      "---\n",
      "Appareil Laptop\n",
      "Marque IBM\n",
      "Carte mère MSI Z490\n",
      "RAM 32G\n",
      "SSD 1 To\n",
      "Intel core i7-G11 Processeur\n",
      "GeForce RTX 3070 Carte Graphique\n",
      "### 7 ###\n",
      "etudiants Admis : {'Amine': 15.5, 'Yassine': 19.0, 'Reda': 14.2, 'Manal': 20.0, 'Saad': 11.3}\n",
      "etudiants non Admis : {'Malak': 8.7, 'Ahmed': 7.5, 'Hannae': 9.8}\n"
     ]
    }
   ],
   "source": [
    "First_dict = { \"Appareil\": \"Laptop\", \"Marque\": \"IBM\", \"Carte mère\": \"MSI Z490\", \"Carte Graphique\":\"GeForce RTX 3070\", \"RAM\": \"16G\", \"Processeur\": \"Intel core i7-G11\", \"SSD\": \"1 To\" }\n",
    "#1\n",
    "print (\"### 1 ###\") \n",
    "First_dict[\"RAM\"]=\"32G\"\n",
    "#2\n",
    "print (\"###  3 ###\") \n",
    "for x in First_dict :\n",
    "    print (x) #3\n",
    "print (\"### 4 ###\") \n",
    "for x in First_dict :\n",
    "    print (First_dict[x]) #4\n",
    "\n",
    "print(\"### 6 ####\") #6\n",
    "temp = {}\n",
    "temp[\"Processeur\"] = \"Intel core i7-G11\" \n",
    "temp[\"Carte Graphique\"] = \"GeForce RTX 3070\"\n",
    "First_dict.pop(\"Processeur\")\n",
    "First_dict.pop(\"Carte Graphique\")\n",
    "\n",
    "for x , y in temp.items() : \n",
    "    First_dict[y] = x\n",
    "print(First_dict)\n",
    "\n",
    "\n",
    "\n",
    "print (\"### 5 ###\") \n",
    "for x in First_dict :\n",
    "    print(f\"{x} : {First_dict[x]}\") #5\n",
    "print (\"---\") \n",
    "for x, y in First_dict.items():\n",
    "    print(x, y)\n",
    "\n",
    "\n",
    "\n",
    "\n",
    "\n",
    "print (\"### 7 ###\") \n",
    "First_dict[\"Système d’exploitation\"]= \"Windows 10\"  #7\n",
    "########### partie ~2\n",
    "notes_eleves = { \"Amine\": 15.5, \"Yassine\": 19.0, \"Reda\": 14.2, \"Malak\": 8.7, \"Manal\": 20.0, \"Ahmed\": 7.5,\"Saad\": 11.3, \"Hannae\": 9.8 }\n",
    "etudiantAdmis={}\n",
    "etudiantNonAdmis={}\n",
    "for x , y in notes_eleves.items() : \n",
    "    if y >= 10 : \n",
    "        etudiantAdmis[x]=y\n",
    "    else :\n",
    "        etudiantNonAdmis[x]=y\n",
    "print(f\"etudiants Admis : {etudiantAdmis}\")\n",
    "print(f\"etudiants non Admis : {etudiantNonAdmis}\")"
   ]
  },
  {
   "cell_type": "markdown",
   "id": "7ab8effa",
   "metadata": {},
   "source": [
    "<H3><span style=\"font-weight: bold; color: #1a8bcdff;\">Challenge 2 : Mise à Jour de Dictionnaires</span></H3>\n",
    "\n",
    "1. <span style=\"font-weight: bold; color: #e56922ff;\">Objectif</span> : </br>\n",
    "Fusionner plusieurs dictionnaires en un seul.\n",
    "\n",
    "2. <span style=\"font-weight: bold; color: #e56922ff;\">Travail à faire</span>:</br>\n",
    "* Utilisez update() pour fusionner trois dictionnaires différents.\n",
    "* Affichez le dictionnaire final avec toutes les clés et valeurs combinées.\n"
   ]
  },
  {
   "cell_type": "code",
   "execution_count": 10,
   "id": "85cd8892",
   "metadata": {},
   "outputs": [
    {
     "name": "stdout",
     "output_type": "stream",
     "text": [
      "{'Amine': 5.5, 'Yassine': 19.0, 'Reda': 14.2, 'Manal': 20.0, 'Saad': 11.3, 'Malak': 8.7, 'Ahmed': 7.5, 'Hannae': 9.8, 'nour': 4.0, 'raja': 4.2, 'nawal': 2.0, 'Samir': 1.3}\n"
     ]
    }
   ],
   "source": [
    "etudiantsAdmis = {'Amine': 15.5, 'Yassine': 19.0, 'Reda': 14.2, 'Manal': 20.0, 'Saad': 11.3}\n",
    "etudiantsNonAdmis = {'Malak': 8.7, 'Ahmed': 7.5, 'Hannae': 9.8}\n",
    "etudiantsExclus= {'Sofia': 5.5, 'nour': 4.0, 'raja': 4.2, 'nawal': 2.0, 'Samir': 1.3}\n",
    "\n",
    "etudiants ={}\n",
    "etudiants.update(etudiantsAdmis)\n",
    "etudiants.update(etudiantsNonAdmis)\n",
    "etudiants.update(etudiantsExclus)\n",
    "\n",
    "print(etudiants)\n"
   ]
  },
  {
   "cell_type": "markdown",
   "id": "c5dd1c26",
   "metadata": {},
   "source": [
    "<H3><span style=\"font-weight: bold; color: #1a8bcdff;\">Challenge 3 : Conversion de Deux Listes en Dictionnaire</span></H3>\n",
    "\n",
    "1. <span style=\"font-weight: bold; color: #e56922ff;\">Objectif</span> : </br>\n",
    "Créer un dictionnaire à partir de deux listes (une pour les clés, une pour les valeurs).\n",
    "\n",
    "2. <span style=\"font-weight: bold; color: #e56922ff;\">Travail à faire</span>:</br>\n",
    "* Utilisez zip() pour combiner les deux listes.\n",
    "* Convertissez le résultat en dictionnaire.\n",
    "* Affichez le dictionnaire créé.\n",
    "\n"
   ]
  },
  {
   "cell_type": "code",
   "execution_count": 19,
   "id": "2663dae7",
   "metadata": {},
   "outputs": [
    {
     "name": "stdout",
     "output_type": "stream",
     "text": [
      "[('Amine', 12), ('Yassine', 10), ('Reda', 9), ('Manal', 17), ('Saad', 19)]\n",
      "{'Amine': 12, 'Yassine': 10, 'Reda': 9, 'Manal': 17, 'Saad': 19}\n",
      "{'Amine': 12, 'Yassine': 10, 'Reda': 9, 'Manal': 17, 'Saad': 19}\n"
     ]
    }
   ],
   "source": [
    "etudiants = ('Amine', 'Yassine', 'Reda', 'Manal', 'Saad')\n",
    "notes = (12, 10, 9, 17, 19)\n",
    "tulpe= list(zip(etudiants , notes))\n",
    "print(tulpe)\n",
    "dictEtudiant={}\n",
    "for x in tulpe : \n",
    "    dictEtudiant[x[0]]=x[1]\n",
    "print(dictEtudiant)\n",
    "\n",
    "## methode 2\n",
    "print(\"######### methode 2 ###########\")\n",
    "etudiants = ('Amine', 'Yassine', 'Reda', 'Manal', 'Saad')\n",
    "notes = (12, 10, 9, 17, 19)\n",
    "dictEtudiant= dict(zip(etudiants , notes))\n",
    "print(dictEtudiant)\n",
    "\n"
   ]
  },
  {
   "cell_type": "markdown",
   "id": "b64cf938",
   "metadata": {},
   "source": [
    "\n",
    "<H3><span style=\"font-weight: bold; color: #1a8bcdff;\">Challenge 4 : Tri d'un Dictionnaire</span></H3>\n",
    "\n",
    "1. <span style=\"font-weight: bold; color: #e56922ff;\">Objectif</span> : </br>\n",
    "Trier un dictionnaire selon ses valeurs.\n",
    "\n",
    "2. <span style=\"font-weight: bold; color: #e56922ff;\">Travail à faire</span>:</br>\n",
    "* Utilisez items() pour obtenir les paires clé-valeur.\n",
    "* Triez ces paires par valeur.\n",
    "* Créez un nouveau dictionnaire à partir des paires triées.\n",
    "\n"
   ]
  },
  {
   "cell_type": "code",
   "execution_count": 28,
   "id": "09480797",
   "metadata": {},
   "outputs": [
    {
     "name": "stdout",
     "output_type": "stream",
     "text": [
      "Amine : 12\n",
      "Yassine : 10\n",
      "Reda : 9\n",
      "Manal : 17\n",
      "Saad : 19\n",
      "5\n",
      "{'Reda': 9, 'Yassine': 10, 'Amine': 12, 'Manal': 17, 'Saad': 19}\n"
     ]
    }
   ],
   "source": [
    "etudiant = {'Amine': 12, 'Yassine': 10, 'Reda': 9, 'Manal': 17, 'Saad': 19}\n",
    "for x , y in etudiant.items() : \n",
    "    print (f\"{x} : {y}\")\n",
    "\n",
    "n = len(etudiant)\n",
    "print(n)\n",
    "i=0\n",
    "\n",
    "\n",
    "listEtudiant =[]\n",
    "for x in etudiant : \n",
    "    listEtudiant.append(x)\n",
    "#print(listEtudiant)\n",
    "noteEtudiant =[]\n",
    "for x in etudiant : \n",
    "    noteEtudiant.append(etudiant[x])\n",
    "#print(noteEtudiant)\n",
    "\n",
    "for i in range(n) :\n",
    "    for j in range(0 , n-1) : \n",
    "        if(noteEtudiant[i] < noteEtudiant[j]  ) : \n",
    "            #sort cle\n",
    "            temp = listEtudiant[j]\n",
    "            listEtudiant[j] = listEtudiant[i]\n",
    "            listEtudiant[i] = temp\n",
    "            # sort valeur \n",
    "            temp1 = noteEtudiant[j]\n",
    "            noteEtudiant[j] = noteEtudiant[i]\n",
    "            noteEtudiant[i] = temp1\n",
    "\n",
    "#print(\"tri\" , noteEtudiant)\n",
    "etudiantTriDict ={}\n",
    "for k in range(0 , n):\n",
    "    etudiantTriDict[listEtudiant[k]]=noteEtudiant[k]\n",
    " \n",
    "print (etudiantTriDict)\n"
   ]
  },
  {
   "cell_type": "markdown",
   "id": "2c429ffc",
   "metadata": {},
   "source": [
    "\n",
    "<H3><span style=\"font-weight: bold; color: #1a8bcdff;\">Challenge 5 : Manipulation de tuples </span></H3>\n",
    "\n",
    "1. <span style=\"font-weight: bold; color: #e56922ff;\">Objectif</span> : </br>\n",
    "Comprendre la structure des tuples, leur immutabilité, et leur utilisation pour stocker des données groupées et ordonnées.\n",
    "\n",
    "2. <span style=\"font-weight: bold; color: #e56922ff;\">Travail à faire</span>:</br>\n",
    "* Crée un tuple nommé etudiant_info contenant les informations suivantes dans cet ordre : Prénom : \"Yasmine\", Âge : 22, Filière : \"Informatique\", Moyenne générale : 17.4\n",
    "* Affiche les informations stockées dans le tuple, une par ligne, avec un texte explicite. (ex: “Prénom : Yasmine”)\n",
    "* Tente de modifier la filière dans le tuple. Que se passe-t-il ? Explique pourquoi.\n",
    "* Utilise l'opérateur de slicing pour afficher uniquement le prénom et l'âge.\n",
    "* Crée un nouveau tuple en combinant etudiant_info avec un second tuple contenant la mention \"Très Bien\" et l’année d’obtention du diplôme (2024), puis affiche le tuple final."
   ]
  },
  {
   "cell_type": "code",
   "execution_count": 35,
   "id": "1e59354d",
   "metadata": {},
   "outputs": [
    {
     "name": "stdout",
     "output_type": "stream",
     "text": [
      "Prénom : Yasmine, Âge : 22, Filière : Informatique, Moyenne générale : 17.4\n",
      "('Yasmine', 22)\n",
      "('Yasmine', 22, 'medecin', 17.4, 'Tres bien', 2024)\n"
     ]
    }
   ],
   "source": [
    "etudiant_info=(\"Yasmine\" , 22 , \"Informatique\", 17.4)\n",
    "print(f\"Prénom : {etudiant_info[0]}, Âge : {etudiant_info[1]}, Filière : {etudiant_info[2]}, Moyenne générale : {etudiant_info[3]}\")\n",
    "## tuple est inchangeable du coup on passe par une conversion \n",
    "liste = list(etudiant_info)\n",
    "liste[2] = \"medecin\"\n",
    "etudiant_info = tuple(liste)\n",
    "print(etudiant_info[slice(0,2)])\n",
    "etudiant_mention=(\"Tres bien\" ,2024 )\n",
    "etu_final=etudiant_info + etudiant_mention\n",
    "print(etu_final)\n"
   ]
  },
  {
   "cell_type": "markdown",
   "id": "bdb88a19",
   "metadata": {},
   "source": []
  }
 ],
 "metadata": {
  "kernelspec": {
   "display_name": "Python 3",
   "language": "python",
   "name": "python3"
  },
  "language_info": {
   "codemirror_mode": {
    "name": "ipython",
    "version": 3
   },
   "file_extension": ".py",
   "mimetype": "text/x-python",
   "name": "python",
   "nbconvert_exporter": "python",
   "pygments_lexer": "ipython3",
   "version": "3.13.7"
  }
 },
 "nbformat": 4,
 "nbformat_minor": 5
}
