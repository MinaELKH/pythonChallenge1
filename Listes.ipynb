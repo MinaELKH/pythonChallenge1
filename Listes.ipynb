{
 "cells": [
  {
   "cell_type": "markdown",
   "id": "b44d4791",
   "metadata": {},
   "source": [
    "<center>\n",
    "<H1><span style=\"text-align: center; font-weight: bold; color: #746bb3ff;\">Les Listes</span></H1>\n",
    "</center>"
   ]
  },
  {
   "cell_type": "markdown",
   "id": "b9c93591",
   "metadata": {},
   "source": [
    "<H3><span style=\"font-weight: bold ; color: #19b7f1ff\">Les ressources: </span></H3> \n",
    "\n",
    "* [Python Lists and List Manipulation](https://realpython.com/python-lists-tuples/)\n",
    "* [Documentation Officielle de Python - Structures de données - Listes](https://docs.python.org/fr/3/tutorial/datastructures.html#more-on-lists)\n"
   ]
  },
  {
   "cell_type": "markdown",
   "id": "873352ef",
   "metadata": {},
   "source": [
    "<H3><span style=\"font-weight: bold; color: #1a8bcdff;\">Challenge 1 : La liste des notes </span></H3>\n",
    "\n",
    "<center><code>notes = [12, 4, 14, 11, 18, 13, 7, 10, 5, 9, 15, 8, 14, 16]</code></center>\n",
    "\n",
    "<span style=\"font-weight: bold; color: #e56922ff;\">Travail à faire</span>:</br>\n",
    "Écris un programme en Python qui extrait toutes les notes supérieures à la moyenne et les stocke dans une nouvelle liste."
   ]
  },
  {
   "cell_type": "code",
   "execution_count": 6,
   "id": "08a09dc2",
   "metadata": {},
   "outputs": [
    {
     "name": "stdout",
     "output_type": "stream",
     "text": [
      "[12, 14, 18, 13, 15, 14, 16]\n"
     ]
    }
   ],
   "source": [
    "notes = [12, 4, 14, 11, 18, 13, 7, 10, 5, 9, 15, 8, 14, 16] \n",
    "i = 0 \n",
    "som = 0 \n",
    "for x in notes : \n",
    "    som = som + x\n",
    "    i+=1\n",
    "moy = som / len(notes)\n",
    "new = []\n",
    "for x in notes : \n",
    "    if(x > moy) : \n",
    "        new.append(x) \n",
    "print(new)\n",
    "\n"
   ]
  },
  {
   "cell_type": "markdown",
   "id": "87452d02",
   "metadata": {},
   "source": [
    "\n",
    "<H3><span style=\"font-weight: bold; color: #1a8bcdff;\">Challenge 2 : Les mots communs</span></H3>\n",
    "\n",
    "<center><code>\n",
    "Ch1 = \"Le langage Python est très populaire\" <br>\n",
    "Ch2 = \"Python est un langage puissant\"\n",
    "        </code></center>\n",
    "\n",
    "<span style=\"font-weight: bold; color: #e56922ff;\">Travail à faire</span>:</br>\n",
    "Écris un programme en Python qui permet de regrouper dans une liste les mots communs entre deux chaînes de caractères Ch1 et Ch2."
   ]
  },
  {
   "cell_type": "code",
   "execution_count": 22,
   "id": "a640e80e",
   "metadata": {},
   "outputs": [
    {
     "name": "stdout",
     "output_type": "stream",
     "text": [
      "['Le', 'langage', 'Python', 'est', 'très', 'populaire']\n",
      "['Python', 'est', 'un', 'langage', 'puissant']\n",
      "['langage', 'Python', 'est']\n"
     ]
    }
   ],
   "source": [
    "Ch1 = \"Le langage Python est très populaire\"\n",
    "Ch2 = \"Python est un langage puissant\"\n",
    "list1 = []\n",
    "mot = \"\"\n",
    "for x in Ch1 : \n",
    "    if(x != \" \") : \n",
    "        mot += x\n",
    "    else: \n",
    "        list1.append(mot)\n",
    "        mot=\"\"\n",
    "if(mot != \" \")   : \n",
    "     list1.append(mot)\n",
    "print(list1)\n",
    "\n",
    "\n",
    "list2 = []\n",
    "mot = \"\"\n",
    "for x in Ch2 : \n",
    "    if(x != \" \") : \n",
    "        mot += x\n",
    "    else: \n",
    "        list2.append(mot)\n",
    "        mot=\"\"\n",
    "if(mot != \" \")   : \n",
    "     list2.append(mot)\n",
    "print(list2)\n",
    "new=[]\n",
    "for x in list1 :\n",
    "    for y in list2 :\n",
    "        if x == y :\n",
    "            new.append(x)\n",
    "print(new)"
   ]
  },
  {
   "cell_type": "markdown",
   "id": "5d74627c",
   "metadata": {},
   "source": [
    "\n",
    "<H3><span style=\"font-weight: bold; color: #1a8bcdff;\">Challenge 3 : Manipulation et tri de listes mixtes</span></H3>\n",
    "\n",
    "<center><code>\n",
    "stock = [\"Stylo\", 25, \"Classeur\", 100, \"Crayon\", 12, \"Surligneur\", 40, \"Feutre\", 5]\n",
    "        </code></center>\n",
    "\n",
    "<span style=\"font-weight: bold; color: #e56922ff;\">Travail à faire</span>:</br>\n",
    " Écris un programme Python qui effectue les opérations suivantes à partir de la liste stock :\n",
    "\n",
    " 1. Afficher la liste initiale.\n",
    "2. Créer deux nouvelles listes :\n",
    "\n",
    "* une contenant uniquement les chaînes de caractères,\n",
    "\n",
    "* l’autre contenant uniquement les valeurs numériques.\n",
    "\n",
    "3. Trier :\n",
    "\n",
    "* la liste des chaînes en ordre croissant (alphabétique),\n",
    "\n",
    "* la liste des nombres en ordre décroissant.\n",
    "\n",
    "4. Afficher les deux listes triées."
   ]
  },
  {
   "cell_type": "code",
   "execution_count": 9,
   "id": "67b9949c",
   "metadata": {},
   "outputs": [
    {
     "name": "stdout",
     "output_type": "stream",
     "text": [
      "['Stylo', 25, 'Classeur', 100, 'Crayon', 12, 'Surligneur', 40, 'Feutre', 5]\n",
      "[25, 100, 12, 40, 5]\n",
      "['Stylo', 'Classeur', 'Crayon', 'Surligneur', 'Feutre']\n"
     ]
    }
   ],
   "source": [
    "stock = [\"Stylo\", 25, \"Classeur\", 100, \"Crayon\", 12, \"Surligneur\", 40, \"Feutre\", 5]\n",
    "print(stock)\n",
    "listNbr = []\n",
    "listAlph = []\n",
    "for x in stock :\n",
    "    if isinstance(x , str) :\n",
    "        listAlph.append(x)\n",
    "    elif isinstance(x , int)  :\n",
    "        listNbr.append(x)\n",
    "\n",
    "print(listNbr)\n",
    "print(listAlph)\n"
   ]
  },
  {
   "cell_type": "markdown",
   "id": "fe0eccef",
   "metadata": {},
   "source": [
    "\n",
    "<H3><span style=\"font-weight: bold; color: #1a8bcdff;\">Challenge 4 : Recherche d’un élément dans une liste </span></H3>\n",
    "\n",
    "<center><code>Fruits = [\"pomme\", \"banane\", \"orange\", \"kiwi\", \"mangue\"]</code></center>\n",
    "\n",
    "<span style=\"font-weight: bold; color: #e56922ff;\">Travail à faire</span>:</br>\n",
    "Créer une fonction « rechercheElement » qui a pour paramètres un élément et une liste et qui renvoie False si l’élément n’est pas dans la liste, ou l’indice de l’élément dans le cas contraire."
   ]
  },
  {
   "cell_type": "code",
   "execution_count": 10,
   "id": "b6d66015",
   "metadata": {},
   "outputs": [
    {
     "name": "stdout",
     "output_type": "stream",
     "text": [
      "AI est trouvé aux indices [0, 4]\n"
     ]
    }
   ],
   "source": [
    "def rechercheElement(mot , liste) :\n",
    "    indice =[]\n",
    "    i=0\n",
    "    for x in liste : \n",
    "        if(x==mot) :\n",
    "            indice.append(i)\n",
    "        i+=1\n",
    "    if len(indice) != 0 : \n",
    "        print (f\"{mot} est trouvé aux indices {indice}\")\n",
    "    else : \n",
    "        print ('le mot est introuvable')\n",
    "\n",
    "rechercheElement(\"AI\" , [\"AI\" , \"hello\" , \"BUS\" , \"COOL\" , \"AI\"]) "
   ]
  },
  {
   "cell_type": "markdown",
   "id": "ce9ba959",
   "metadata": {},
   "source": [
    "<H3><span style=\"font-weight: bold; color: #1a8bcdff;\">Challenge 5 : Nombre d'occurrences </span></H3>\n",
    "\n",
    "<center><code>L = [7 , 23 , 5 , 23 , 7 , 19 , 23 , 12 , 29]</code></center>\n",
    "\n",
    "<span style=\"font-weight: bold; color: #e56922ff;\">Travail à faire</span>:</br>\n",
    "Écrire un algorithme en python qui renvoie le nombre d'occurrences d'un élément a dans une liste L donnée sans utiliser aucune fonction prédéfinie en Python."
   ]
  },
  {
   "cell_type": "code",
   "execution_count": 13,
   "id": "fb150eca",
   "metadata": {},
   "outputs": [
    {
     "name": "stdout",
     "output_type": "stream",
     "text": [
      "le nombre d'occurrences 23  est  3\n",
      "23 est trouvé aux indices [1, 3, 6]\n"
     ]
    }
   ],
   "source": [
    "def rechercheElement(mot) :\n",
    "    liste = [7 , 23 , 5 , 23 , 7 , 19 , 23 , 12 , 29]\n",
    "    indice =[]\n",
    "    i=0\n",
    "    for x in liste : \n",
    "        if(x==mot) :\n",
    "            indice.append(i)\n",
    "        i+=1\n",
    "    if len(indice) != 0 : \n",
    "        print (f\"le nombre d'occurrences {mot}  est  {len(indice)}\")\n",
    "        print (f\"{mot} est trouvé aux indices {indice}\")\n",
    "    else : \n",
    "        print ('le chiffre est introuvable')\n",
    "\n",
    "rechercheElement(23) "
   ]
  },
  {
   "cell_type": "markdown",
   "id": "e8fb0d93",
   "metadata": {},
   "source": []
  }
 ],
 "metadata": {
  "kernelspec": {
   "display_name": "Python 3",
   "language": "python",
   "name": "python3"
  },
  "language_info": {
   "codemirror_mode": {
    "name": "ipython",
    "version": 3
   },
   "file_extension": ".py",
   "mimetype": "text/x-python",
   "name": "python",
   "nbconvert_exporter": "python",
   "pygments_lexer": "ipython3",
   "version": "3.13.7"
  }
 },
 "nbformat": 4,
 "nbformat_minor": 5
}
