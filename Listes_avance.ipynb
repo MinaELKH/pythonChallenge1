{
 "cells": [
  {
   "cell_type": "markdown",
   "id": "4b14e968",
   "metadata": {},
   "source": [
    "\n",
    "<center>\n",
    "<H1><span style=\"text-align: center; font-weight: bold; color: #746bb3ff;\">Challenges avancés sur les listes</span></H1>\n",
    "</center>"
   ]
  },
  {
   "cell_type": "markdown",
   "id": "6e737eb3",
   "metadata": {},
   "source": [
    "<H3><span style=\"font-weight: bold; color: #1a8bcdff;\">Challenge 1 :  Filtrage avancé avec fonctions</span></H3>\n",
    "\n",
    "1. <span style=\"font-weight: bold; color: #e56922ff;\">Objectif</span> : </br>\n",
    "Créer une fonction qui filtre une liste selon des critères dynamiques passés en paramètre.\n",
    "\n",
    "2. <span style=\"font-weight: bold; color: #e56922ff;\">Travail à faire</span>:</br>\n",
    "\n",
    "* Écrivez une fonction filtrer_liste qui prend en entrée une liste de nombres et une fonction de critère (fonction lambda ou définie). La fonction doit retourner une nouvelle liste contenant uniquement les éléments qui satisfont le critère. \n",
    "* Testez la fonction avec au moins deux critères différents (par exemple, \"plus grand que 10\" et \"multiple de 3\").\n",
    "* Exemple d'entrée :<code>[1, 12, 9, 15, 20, 3]</code>  avec critère <code>lambda x: x > 10</code> → Résultat : <code>[12, 15, 20]</code>.\n",
    "3. Fonctions à utiliser :\n",
    "\n",
    "* <code>filter()</code> : Pour appliquer le critère de filtrage sur la liste.\n",
    "* <code>list()</code> : Pour convertir le résultat de filter en liste."
   ]
  },
  {
   "cell_type": "code",
   "execution_count": 1,
   "id": "515f5469",
   "metadata": {},
   "outputs": [
    {
     "name": "stdout",
     "output_type": "stream",
     "text": [
      "[12, 15]\n"
     ]
    }
   ],
   "source": [
    "filtre_lst = [1, 12, 9, 15, 20, 3]\n",
    "\n",
    "\n",
    "def satisf(critere , lst) : \n",
    "    return list(filter(critere , lst))\n",
    "   \n",
    "rslt = satisf(lambda x : x > 10 and  x % 3 == 0, filtre_lst)\n",
    "print (rslt)"
   ]
  },
  {
   "cell_type": "markdown",
   "id": "cb83ba8f",
   "metadata": {},
   "source": [
    "<H3><span style=\"font-weight: bold; color: #1a8bcdff;\">Challenge 2 : Transformation Avancée de Données</span></H3>\n",
    "\n",
    "1. <span style=\"font-weight: bold; color: #e56922ff;\">Objectif</span> : </br>\n",
    " Manipuler et transformer une liste de nombres en combinant plusieurs opérations fonctionnelles.\n",
    "\n",
    "\n",
    "2. <span style=\"font-weight: bold; color: #e56922ff;\">Travail à faire</span>:</br>\n",
    "\n",
    "* Créez une liste de nombres entiers (positifs et négatifs).\n",
    "\n",
    "* Utilisez filter() pour garder uniquement les nombres positifs.\n",
    "\n",
    "* Utilisez map() pour calculer le cube de chaque nombre filtré.\n",
    "\n",
    "* Utilisez sorted() pour trier la liste des cubes en ordre décroissant.\n",
    "\n",
    "* Affichez la liste finale des valeurs transformées."
   ]
  },
  {
   "cell_type": "code",
   "execution_count": 13,
   "id": "68709f89",
   "metadata": {},
   "outputs": [
    {
     "name": "stdout",
     "output_type": "stream",
     "text": [
      "[1, 9, 20, 3, 5, 8]\n",
      "[1, 729, 8000, 27, 125, 512]\n",
      "[1, 27, 125, 512, 729, 8000]\n"
     ]
    }
   ],
   "source": [
    "filtre_lst = [1, -12, 9, -15, 20, -3 , 3 , 5 , 8 ,-6]\n",
    "lst = list(filter( lambda x : x>0  , filtre_lst ))\n",
    "print (lst)\n",
    "lst_cube = list(map(lambda x : x**3 ,lst ))\n",
    "print (lst_cube)\n",
    "lst_sorted = sorted(lst_cube)\n",
    "print (lst_sorted)"
   ]
  },
  {
   "cell_type": "markdown",
   "id": "9348938f",
   "metadata": {},
   "source": [
    "<H3><span style=\"font-weight: bold; color: #1a8bcdff;\">Challenge 3 : Tri personnalisé avec clé dynamique\n",
    "</span></H3>\n",
    "\n",
    "1. <span style=\"font-weight: bold; color: #e56922ff;\">Objectif</span> : </br>\n",
    "Trier une liste d'objets complexes en utilisant une fonction de clé personnalisée.\n",
    "\n",
    "2. <span style=\"font-weight: bold; color: #e56922ff;\">Travail à faire</span>:</br>\n",
    "\n",
    "* Créez une liste de dictionnaires représentant des étudiants avec les clés nom (str) et note (int). \n",
    "* Écrivez une fonction trier_etudiants qui prend la liste et une fonction de clé (par exemple, lambda x: x['note'] pour trier par note). La fonction doit retourner la liste triée, avec une option pour tri croissant ou décroissant (via un paramètre reverse).  \n",
    "* Testez avec une liste d'au moins 5 étudiants et deux critères de tri.\n",
    "* Exemple d'entrée : <code>[{'nom': 'Alice', 'note': 85}, {'nom': 'Bob', 'note': 92}]</code> trié par note décroissante → Résultat : <code>[{'nom': 'Bob', 'note': 92}, {'nom': 'Alice', 'note': 85}]</code>.\n",
    "3. Fonctions à utiliser :\n",
    "* <code>sorted()</code> : Pour trier la liste avec une clé personnalisée.\n",
    "* <code>lambda</code> : Pour définir les fonctions de clé dynamiques."
   ]
  },
  {
   "cell_type": "code",
   "execution_count": null,
   "id": "341dbff4",
   "metadata": {},
   "outputs": [
    {
     "name": "stdout",
     "output_type": "stream",
     "text": [
      "[{'nom': 'Ali', 'note': 15}, {'nom': 'Mina', 'note': 18}, {'nom': 'Yassine', 'note': 12}, {'nom': 'Sara', 'note': 9}, {'nom': 'Omar', 'note': 14}]\n",
      "[{'nom': 'Mina', 'note': 18}, {'nom': 'Ali', 'note': 15}, {'nom': 'Omar', 'note': 14}, {'nom': 'Yassine', 'note': 12}, {'nom': 'Sara', 'note': 9}]\n"
     ]
    }
   ],
   "source": [
    "etudiants = [\n",
    "    {\"nom\": \"Ali\", \"note\": 15},\n",
    "    {\"nom\": \"Mina\", \"note\": 18},\n",
    "    {\"nom\": \"Yassine\", \"note\": 12},\n",
    "    {\"nom\": \"Sara\", \"note\": 9},\n",
    "    {\"nom\": \"Omar\", \"note\": 14}\n",
    "]\n",
    "\n",
    "def tri_etudiant(etudiants ,func , sensTri) :\n",
    "    \n",
    "    return sorted(etudiants ,key = func , reverse=sensTri)\n",
    "\n",
    "\n",
    "\n",
    "print(etudiants)\n",
    "func = lambda x : x['note']\n",
    "print(tri_etudiant(etudiants , func ,  True))\n",
    "\n"
   ]
  },
  {
   "cell_type": "markdown",
   "id": "12a40e48",
   "metadata": {},
   "source": [
    "<H3><span style=\"font-weight: bold; color: #1a8bcdff;\">Challenge 4 : Fusion intelligente de listes</span></H3>\n",
    "\n",
    "1. <span style=\"font-weight: bold; color: #e56922ff;\">Objectif</span> : </br>\n",
    "Fusionner deux listes en éliminant les doublons et en respectant un ordre spécifique.\n",
    "2. <span style=\"font-weight: bold; color: #e56922ff;\">Travail à faire</span>:</br>\n",
    "\n",
    "* Écrivez une fonction fusionner_listes qui prend deux listes de nombres et une fonction de tri (par exemple, lambda x: x pour tri croissant). \n",
    "* La fonction doit fusionner les deux listes, supprimer les doublons, et retourner une liste triée selon la fonction de tri fournie. \n",
    "*  Testez avec deux listes contenant des doublons et deux fonctions de tri différentes.\n",
    "* Exemple d'entrée : <code>liste1 = [1, 3, 5, 3]</code>, <code>liste2 = [2, 3, 4, 5]</code>, tri croissant → Résultat : <code>[1, 2, 3, 4, 5]</code>.\n",
    "3. Fonctions à utiliser :\n",
    "\n",
    "* extend() : Pour ajouter les éléments d'une liste à une autre.\n",
    "* set() : Pour supprimer les doublons.\n",
    "* sorted() : Pour trier la liste fusionnée."
   ]
  },
  {
   "cell_type": "code",
   "execution_count": 33,
   "id": "a8fb6e19",
   "metadata": {},
   "outputs": [
    {
     "name": "stdout",
     "output_type": "stream",
     "text": [
      "ordr croissant\n",
      "[1, 2, 3, 4, 5]\n",
      "ordr decroissant\n",
      "[5, 4, 3, 2, 1]\n"
     ]
    }
   ],
   "source": [
    "\n",
    "def fusionner(liste1 , liste2, sensTri) : \n",
    "    liste1.extend(liste2)\n",
    "    lst = liste1\n",
    "    lst = list(set(lst))\n",
    "    lst.sort(key = lambda x : x * sensTri)\n",
    "    print (lst)\n",
    "\n",
    "liste1 = [1, 3, 5, 3]\n",
    "liste2 = [2, 3, 4, 5]\n",
    "print(\"ordr croissant\")\n",
    "fusionner(liste1 , liste2 , 1)\n",
    "print(\"ordr decroissant\")\n",
    "fusionner(liste1 , liste2 , -1)\n",
    "\n",
    "\n",
    "\n"
   ]
  },
  {
   "cell_type": "markdown",
   "id": "dd1e329d",
   "metadata": {},
   "source": [
    "<H3><span style=\"font-weight: bold; color: #1a8bcdff;\">Challenge 5 : Partitionnement de liste</span></H3>\n",
    "\n",
    "1. <span style=\"font-weight: bold; color: #e56922ff;\">Objectif</span> : </br>\n",
    "Diviser une liste en sous-listes selon un critère dynamique.\n",
    "2. <span style=\"font-weight: bold; color: #e56922ff;\">Travail à faire</span>:</br>\n",
    "\n",
    "* Écrivez une fonction partitionner_liste qui prend une liste et une fonction de critère (par exemple, lambda x: x % 2 == 0 pour séparer pairs et impairs). \n",
    "* La fonction doit retourner un tuple contenant deux listes : une pour les éléments qui satisfont le critère et une pour ceux qui ne le satisfont pas. \n",
    "* Testez avec deux critères différents (par exemple, \"pair/impair\" et \"positif/négatif\").\n",
    "* Exemple d'entrée : <code>[1, 2, 3, 4, 5, 6]</code> avec critère <code>ambda x: x % 2 == 0</code>l → Résultat : <code>([2, 4, 6], [1, 3, 5])</code>.\n",
    "3. Fonctions à utiliser :\n",
    "\n",
    "* <code>filter()</code> : Pour séparer les éléments selon le critère.\n",
    "* <code>list()</code> : Pour convertir les résultats de filter en listes.\n",
    "* <code>append()</code> : Pour construire les deux listes si vous utilisez une boucle."
   ]
  },
  {
   "cell_type": "code",
   "execution_count": null,
   "id": "843cd03c",
   "metadata": {},
   "outputs": [
    {
     "name": "stdout",
     "output_type": "stream",
     "text": [
      "([1, 9, -15, -3, 3, 5], [12, 20, -8, 6])\n"
     ]
    }
   ],
   "source": [
    "lst = [1, 12, 9, -15, 20, -3 , 3 , 5 , -8 ,6]\n",
    "def separer(lst) :\n",
    "    lstPaire = list(filter(lambda x : x % 2 == 0 , lst))\n",
    "    lstImpaire = list(filter(lambda x : x % 2 !=0 , lst))\n",
    "    tupleSepare = (lstImpaire , lstPaire)\n",
    "    print(tupleSepare)\n",
    "\n",
    "separer(lst ,  )\n"
   ]
  },
  {
   "cell_type": "markdown",
   "id": "24d606ac",
   "metadata": {},
   "source": [
    "<H3><span style=\"font-weight: bold; color: #1a8bcdff;\">Challenge 6 : Réduction avec accumulation personnalisée</span></H3>\n",
    "\n",
    "1. <span style=\"font-weight: bold; color: #e56922ff;\">Objectif</span> : </br>\n",
    "Appliquer une opération personnalisée pour réduire une liste à une seule valeur.\n",
    "\n",
    "2. <span style=\"font-weight: bold; color: #e56922ff;\">Travail à faire</span>:</br>\n",
    "\n",
    "* Écrivez une fonction reduire_liste qui prend une liste de nombres, une fonction d'opération (par exemple, lambda x, y: x + y pour une somme), et une valeur initiale. \n",
    "* La fonction doit appliquer l'opération sur les éléments pour produire une seule valeur, sans utiliser functools.reduce. \n",
    "* Testez avec deux opérations différentes (par exemple, somme et produit).\n",
    "* Exemple d'entrée : <code>[1, 2, 3, 4]</code> avec <code>lambda x, y: x + y</code> et valeur initiale 0 → Résultat : 10.\n",
    "3. Fonctions à utiliser :\n",
    "\n",
    "* <code>lambda</code> : Pour définir l'opération personnalisée.\n",
    "* Boucle avec accumulation (pas de fonction intégrée comme reduce, car interdit dans l'énoncé)."
   ]
  },
  {
   "cell_type": "code",
   "execution_count": null,
   "id": "9c0d3355",
   "metadata": {},
   "outputs": [
    {
     "name": "stdout",
     "output_type": "stream",
     "text": [
      "10\n"
     ]
    }
   ],
   "source": [
    "lst = [1,2,3,4]\n",
    "def reduire_liste(lst , func , val_init) : \n",
    "     rslt = val_init\n",
    "     for x in lst :\n",
    "          rslt = func(x , rslt)                  \n",
    "     print(rslt)\n",
    "reduire_liste(lst ,lambda x , y : x + y   ,  0)"
   ]
  },
  {
   "cell_type": "markdown",
   "id": "7d7b7f8a",
   "metadata": {},
   "source": [
    "<H3><span style=\"font-weight: bold; color: #1a8bcdff;\">Challenge 7 : Transformation imbriquée</span></H3>\n",
    "\n",
    "1. <span style=\"font-weight: bold; color: #e56922ff;\">Objectif</span> : </br>\n",
    "Transformer une liste imbriquée avec une fonction récursive.\n",
    "\n",
    "2. <span style=\"font-weight: bold; color: #e56922ff;\">Travail à faire</span>:</br>\n",
    "\n",
    "* Écrivez une fonction transformer_imbriquee qui prend une liste potentiellement imbriquée (contenant des nombres ou des listes) et une fonction de transformation (par exemple, lambda x: x * 2 pour doubler chaque nombre). \n",
    "* La fonction doit appliquer la transformation à chaque nombre, en préservant la structure imbriquée. \n",
    "* Testez avec une liste contenant au moins deux niveaux d'imbrication et deux fonctions de transformation.\n",
    "* Exemple d'entrée : <code>[1, [2, 3, [4, 5]], 6]</code> avec <code>lambda x: x * 2 </code>→ Résultat : <code>[2, [4, 6, [8, 10]], 12]</code>.\n",
    "3. Fonctions à utiliser :\n",
    "\n",
    "<code>map()</code> : Pour appliquer la transformation aux éléments non imbriqués.\n",
    "<code>isinstance()</code> : Pour vérifier si un élément est une liste (pour la récursivité).\n",
    "<code>list()</code> : Pour convertir les résultats de map en listes."
   ]
  },
  {
   "cell_type": "code",
   "execution_count": null,
   "id": "0d08089b",
   "metadata": {},
   "outputs": [
    {
     "data": {
      "text/plain": [
       "[2, [4, 6, [8, 10]], 12]"
      ]
     },
     "execution_count": 59,
     "metadata": {},
     "output_type": "execute_result"
    }
   ],
   "source": [
    "lst = [1, [2, 3, [4, 5]], 6]\n",
    "def transforme(lst , func ) :\n",
    "    rslt = []\n",
    "    for i in range (len(lst)): \n",
    "        if(isinstance(lst[i] , list)) : \n",
    "          rslt.append(transforme(lst[i] , func )) \n",
    "        else :\n",
    "          rslt.append(func(lst[i]))\n",
    "    return  rslt\n",
    "\n",
    "transforme(lst , lambda x : x*2 )           \n",
    " "
   ]
  }
 ],
 "metadata": {
  "kernelspec": {
   "display_name": "Python 3",
   "language": "python",
   "name": "python3"
  },
  "language_info": {
   "codemirror_mode": {
    "name": "ipython",
    "version": 3
   },
   "file_extension": ".py",
   "mimetype": "text/x-python",
   "name": "python",
   "nbconvert_exporter": "python",
   "pygments_lexer": "ipython3",
   "version": "3.13.7"
  }
 },
 "nbformat": 4,
 "nbformat_minor": 5
}
