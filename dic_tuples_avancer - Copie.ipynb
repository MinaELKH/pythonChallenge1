{
 "cells": [
  {
   "cell_type": "markdown",
   "id": "ed27035d",
   "metadata": {},
   "source": [
    "\n",
    "<center>\n",
    "<H1><span style=\"text-align: center; font-weight: bold; color: #746bb3ff;\">Challenges avancés sur les dics et tuples</span></H1>\n",
    "</center>"
   ]
  },
  {
   "cell_type": "markdown",
   "id": "d37d1b79",
   "metadata": {},
   "source": [
    "### **Conseils pour résoudre les challenges :**\n",
    "- Testez avec des cas limites : dictionnaires vides, tuples vides, clés absentes, ou structures imbriquées complexes.\n",
    "- Utilisez `get()` ou `setdefault()` pour gérer les accès sécurisés aux dictionnaires.\n",
    "- Pour les tuples, rappelez-vous qu'ils sont immuables, donc toute transformation nécessite de créer de nouveaux tuples.\n",
    "- Assurez-vous que vos fonctions sont robustes face aux erreurs (par exemple, vérifier les types des entrées).\n"
   ]
  },
  {
   "cell_type": "markdown",
   "id": "28323bec",
   "metadata": {},
   "source": [
    "### **Challenge 1 : Fusion de dictionnaires avec mise à jour personnalisée**\n",
    "**Objectif** : Fusionner deux dictionnaires en appliquant une règle personnalisée pour gérer les clés communes.\n",
    "\n",
    "**Travail à faire** :  \n",
    "* Écrivez une fonction `fusionner_dictionnaires` qui prend deux dictionnaires et une fonction de fusion (par exemple, `lambda x, y: x + y` pour additionner les valeurs des clés communes). \n",
    " * La fonction doit retourner un nouveau dictionnaire contenant toutes les clés des deux dictionnaires, avec les valeurs des clés communes combinées via la fonction de fusion. \n",
    " * Testez avec deux dictionnaires et deux fonctions de fusion différentes (par exemple, addition et maximum).  \n",
    "* Exemple d'entrée : `dict1 = {'a': 1, 'b': 2}`, `dict2 = {'b': 3, 'c': 4}`, fonction `lambda x, y: x + y` → Résultat : `{'a': 1, 'b': 5, 'c': 4}`.\n",
    "\n",
    "**Fonctions à utiliser** :  \n",
    "- `items()` : Pour itérer sur les paires clé-valeur des dictionnaires.  \n",
    "- `setdefault()` : Pour gérer les clés absentes dans un dictionnaire.  \n",
    "- `update()` : Pour ajouter des paires clé-valeur au dictionnaire résultat. "
   ]
  },
  {
   "cell_type": "code",
   "execution_count": 4,
   "id": "d9030712",
   "metadata": {},
   "outputs": [
    {
     "name": "stdout",
     "output_type": "stream",
     "text": [
      "{'a': 1, 'b': 5, 'c': 4}\n"
     ]
    }
   ],
   "source": [
    "dict1 = {'a': 1, 'b': 2}\n",
    "dict2 = {'b': 3, 'c': 4}\n",
    "\n",
    "def fusionner_dic(dict1, dict2, fun):\n",
    "    dict = {}\n",
    "    for x, y in dict1.items():\n",
    "        dict.setdefault(x, y)\n",
    "    for x, y in dict2.items():\n",
    "        if x in dict :\n",
    "            dict[x] = fun(dict[x], y)\n",
    "        else:\n",
    "            dict.setdefault(x, y)\n",
    "    return dict\n",
    "\n",
    "print(fusionner_dic(dict1, dict2, lambda x, y: x + y))  \n"
   ]
  },
  {
   "cell_type": "markdown",
   "id": "bf45ff06",
   "metadata": {},
   "source": [
    "### **Challenge 2 : Filtrage de dictionnaire par valeurs**\n",
    "**Objectif** : Filtrer un dictionnaire selon un critère appliqué à ses valeurs.\n",
    "\n",
    "**Travail à faire** :  \n",
    "* Écrivez une fonction `filtrer_dictionnaire` qui prend un dictionnaire et une fonction de critère (par exemple, `lambda x: x > 10` pour garder les valeurs supérieures à 10). \n",
    "* La fonction doit retourner un nouveau dictionnaire contenant uniquement les paires clé-valeur où la valeur satisfait le critère. Testez avec deux critères différents (par exemple, \"valeur > 10\" et \"valeur est paire\").  \n",
    "* Exemple d'entrée : `{'a': 5, 'b': 12, 'c': 8, 'd': 15}` avec critère `lambda x: x > 10` → Résultat : `{'b': 12, 'd': 15}`.\n",
    "\n",
    "**Fonctions à utiliser** :  \n",
    "- `items()` : Pour itérer sur les paires clé-valeur.  \n",
    "- `filter()` : Pour appliquer le critère aux valeurs.  \n",
    "- `dict()` : Pour construire le dictionnaire résultat à partir des paires filtrées.  \n"
   ]
  },
  {
   "cell_type": "code",
   "execution_count": 15,
   "id": "b845b4cc",
   "metadata": {},
   "outputs": [
    {
     "name": "stdout",
     "output_type": "stream",
     "text": [
      "dict_items([('a', 5), ('b', 12), ('c', 8), ('d', 15)])\n",
      "12\n",
      "15\n",
      "{}\n"
     ]
    },
    {
     "data": {
      "text/plain": [
       "{}"
      ]
     },
     "execution_count": 15,
     "metadata": {},
     "output_type": "execute_result"
    }
   ],
   "source": [
    "dict1 = {'a': 5, 'b': 12, 'c': 8, 'd': 15}\n",
    "print (dict1.items())\n",
    "def filterDic(dic  , func  ) :\n",
    "    dicFiltre = {}\n",
    "    dicFiltre = dict(filter( lambda item : func(item[1]), dic.items() ))\n",
    "    print(dicFiltre)\n",
    "    return dicFiltre\n",
    "\n",
    "filterDic(dict1 , lambda x : x > 10 and print(x))\n"
   ]
  },
  {
   "cell_type": "code",
   "execution_count": 4,
   "id": "e8dd2ae3",
   "metadata": {},
   "outputs": [
    {
     "name": "stdout",
     "output_type": "stream",
     "text": [
      "[('a', 5), ('b', 12), ('c', 8), ('d', 15)]\n",
      "[{'b': 12, 'd': 15}]\n"
     ]
    }
   ],
   "source": [
    "def filter_dictionnaire(dict1: dict, fun):\n",
    "    items = list(dict1.items())\n",
    "    print(items)\n",
    "    dict_filter = [dict(filter(lambda x: fun(x[1]), items))]\n",
    "    print(dict_filter)\n",
    "dict1 = {'a': 5, 'b': 12, 'c': 8, 'd': 15}\n",
    "filter_dictionnaire(dict1, lambda x: x > 10)"
   ]
  },
  {
   "cell_type": "markdown",
   "id": "013db6ff",
   "metadata": {},
   "source": [
    "### **Challenge 3 : Création de tuples à partir de dictionnaires**\n",
    "**Objectif** : Convertir un dictionnaire en une liste de tuples triés selon un critère.\n",
    "\n",
    "**Travail à faire** :  \n",
    "* Écrivez une fonction `dictionnaire_vers_tuples` qui prend un dictionnaire et une fonction de tri (par exemple, `lambda x: x[1]` pour trier par valeur). \n",
    "* La fonction doit retourner une liste de tuples (clé, valeur) triée selon la fonction de tri. Testez avec deux critères de tri (par exemple, tri par clé et tri par valeur).  \n",
    "* Exemple d'entrée : `{'a': 10, 'b': 5, 'c': 15}` avec tri par valeur → Résultat : `[('b', 5), ('a', 10), ('c', 15)]`.\n",
    "\n",
    "**Fonctions à utiliser** :  \n",
    "- `items()` : Pour obtenir les paires clé-valeur sous forme de tuples.  \n",
    "- `sorted()` : Pour trier les tuples selon le critère.  \n",
    "- `list()` : Pour convertir en liste si nécessaire.  \n"
   ]
  },
  {
   "cell_type": "code",
   "execution_count": 22,
   "id": "43c3cdf9",
   "metadata": {},
   "outputs": [
    {
     "name": "stdout",
     "output_type": "stream",
     "text": [
      "[('b', 5), ('d', 7), ('a', 10), ('c', 15)]\n",
      "[('a', 10), ('b', 5), ('c', 15), ('d', 7)]\n"
     ]
    }
   ],
   "source": [
    "dict1 = {'d':7 , 'a': 10, 'b': 5, 'c': 15}\n",
    "def dictionnaire_vers_tuples(dic , func ) : \n",
    "    items = list(dic.items())\n",
    "    # print (items)\n",
    "    dict_tri = sorted(items , key = func)\n",
    "    print(dict_tri)\n",
    "\n",
    "funcTriValeur = lambda x : x[1]\n",
    "funcTricle = lambda x : x\n",
    "dictionnaire_vers_tuples(dict1 , funcTriValeur )\n",
    "dictionnaire_vers_tuples(dict1 , funcTricle )"
   ]
  },
  {
   "cell_type": "code",
   "execution_count": 5,
   "id": "53137000",
   "metadata": {},
   "outputs": [
    {
     "name": "stdout",
     "output_type": "stream",
     "text": [
      "[('b', 5), ('a', 10), ('c', 15)]\n"
     ]
    }
   ],
   "source": [
    "def dictionnaire_vers_tuples(dict, fun):\n",
    "    items = list(dict.items())\n",
    "    tri = sorted(items, key=fun)\n",
    "    print (tri)\n",
    "dict  ={'a': 10, 'b': 5, 'c': 15}\n",
    "dictionnaire_vers_tuples(dict, lambda x:x[1])"
   ]
  },
  {
   "cell_type": "markdown",
   "id": "eebca455",
   "metadata": {},
   "source": [
    "### **Challenge 4 : Regroupement par clé dans un dictionnaire**\n",
    "**Objectif** : Regrouper des tuples dans un dictionnaire selon leur première valeur.\n",
    "\n",
    "**Travail à faire** :  \n",
    "* Écrivez une fonction `regrouper_tuples` qui prend une liste de tuples (chaque tuple ayant au moins deux éléments : une clé et une valeur) et regroupe les valeurs associées à chaque clé dans un dictionnaire. \n",
    "* La fonction doit retourner un dictionnaire où chaque clé est la première valeur du tuple, et la valeur est une liste des secondes valeurs correspondantes. Testez avec une liste de tuples contenant des doublons de clés.  \n",
    "* Exemple d'entrée : `[('a', 1), ('b', 2), ('a', 3), ('c', 4)]` → Résultat : `{'a': [1, 3], 'b': [2], 'c': [4]}`.\n",
    "\n",
    "**Fonctions à utiliser** :  \n",
    "- `setdefault()` : Pour initialiser une liste vide pour chaque clé.  \n",
    "- `append()` : Pour ajouter les valeurs à la liste associée à une clé.  \n"
   ]
  },
  {
   "cell_type": "code",
   "execution_count": 34,
   "id": "5cf78eb5",
   "metadata": {},
   "outputs": [
    {
     "name": "stdout",
     "output_type": "stream",
     "text": [
      "('a', 1)\n",
      "('b', 2)\n",
      "('a', 3)\n",
      "('c', 4)\n",
      "{'a': [1, 3], 'b': [2], 'c': [4]}\n"
     ]
    }
   ],
   "source": [
    "lstTuple = [('a', 1), ('b', 2), ('a', 3), ('c', 4)]\n",
    "def regrouper_tuples(lstTuple) : \n",
    "    dict  = {}\n",
    "    for x  in lstTuple : \n",
    "        print(x)\n",
    "        dict.setdefault(x[0] ,  [])\n",
    "        dict[x[0]].append(x[1])\n",
    "       \n",
    "        if x in dict :\n",
    "            dict[x[0]].append(x[1])\n",
    "          \n",
    "    print(dict) \n",
    "\n",
    "regrouper_tuples(lstTuple)  "
   ]
  },
  {
   "cell_type": "code",
   "execution_count": 26,
   "id": "d93f6dcc",
   "metadata": {},
   "outputs": [
    {
     "name": "stdout",
     "output_type": "stream",
     "text": [
      "{'a': [1, 3], 'b': [2], 'c': [4]}\n"
     ]
    }
   ],
   "source": [
    "def regrouper_tuples(tup):\n",
    "    rslt = {}\n",
    "    for x, y in tup: \n",
    "        if x not in rslt: \n",
    "            rslt[x] = []       \n",
    "        rslt[x].append(y)      \n",
    "    return rslt\n",
    "\n",
    "tuples = [('a', 1), ('b', 2), ('a', 3), ('c', 4)]\n",
    "res = regrouper_tuples(tuples)\n",
    "print(res)"
   ]
  },
  {
   "cell_type": "markdown",
   "id": "006c74b5",
   "metadata": {},
   "source": [
    "### **Challenge 5 : Transformation de tuples avec fonction**\n",
    "**Objectif** : Appliquer une transformation à tous les éléments numériques d'une liste de tuples.\n",
    "\n",
    "**Travail à faire** :  \n",
    "* Écrivez une fonction `transformer_tuples` qui prend une liste de tuples contenant des nombres et une fonction de transformation (par exemple, `lambda x: x * 2`). \n",
    "* La fonction doit appliquer la transformation à chaque nombre dans les tuples et retourner une nouvelle liste de tuples.  \n",
    "* Testez avec deux fonctions de transformation différentes (par exemple, doubler et ajouter 1).  \n",
    "* Exemple d'entrée : `[(1, 2), (3, 4)]` avec `lambda x: x * 2` → Résultat : `[(2, 4), (6, 8)]`.\n",
    "\n",
    "**Fonctions à utiliser** :  \n",
    "- `map()` : Pour appliquer la transformation à chaque élément du tuple.  \n",
    "- `tuple()` : Pour convertir les résultats de `map` en tuples.  \n",
    "- `list()` : Pour construire la liste finale de tuples.  \n"
   ]
  },
  {
   "cell_type": "code",
   "execution_count": 43,
   "id": "222bcfa9",
   "metadata": {},
   "outputs": [
    {
     "name": "stdout",
     "output_type": "stream",
     "text": [
      "[[2, 4], [6, 8]]\n"
     ]
    }
   ],
   "source": [
    "lstTuple = [(1, 2), (3, 4)]\n",
    "def transformer_tuples(lstTuple , fun) : \n",
    "    lst = [list(map(fun , t)) for t in lstTuple]\n",
    "    print(lst)\n",
    "funDouble = lambda x: x * 2\n",
    "funAjout = lambda x: x +1\n",
    "transformer_tuples(lstTuple , funDouble)"
   ]
  },
  {
   "cell_type": "code",
   "execution_count": 38,
   "id": "dc97cd24",
   "metadata": {},
   "outputs": [
    {
     "name": "stdout",
     "output_type": "stream",
     "text": [
      "(2, 4)\n",
      "(6, 8)\n",
      "[(2, 4), (6, 8)]\n"
     ]
    }
   ],
   "source": [
    "def transformer_tuples(tup, fun):\n",
    "    rslt = []\n",
    "    for x in tup:\n",
    "        tup1 = tuple(map(fun, x))  \n",
    "        print(tup1)\n",
    "        rslt.append(tup1)         \n",
    "    return rslt\n",
    "\n",
    "tup = [(1, 2), (3, 4)]\n",
    "\n",
    "rslt = transformer_tuples(tup, lambda x: x * 2)\n",
    "print(rslt)  "
   ]
  },
  {
   "cell_type": "markdown",
   "id": "6c9aa7f3",
   "metadata": {},
   "source": [
    "### **Challenge 6 : Dictionnaire imbriqué à plat**\n",
    "**Objectif** : Convertir un dictionnaire imbriqué en une liste de tuples avec des clés concaténées.\n",
    "\n",
    "**Travail à faire** :  \n",
    "Écrivez une fonction `aplatir_dictionnaire` qui prend un dictionnaire potentiellement imbriqué et retourne une liste de tuples où chaque tuple contient une clé concaténée (séparée par des points) et la valeur correspondante. Testez avec un dictionnaire ayant au moins deux niveaux d'imbrication.  \n",
    "Exemple d'entrée : `{'a': 1, 'b': {'c': 2, 'd': 3}}` → Résultat : `[('a', 1), ('b.c', 2), ('b.d', 3)]`.\n",
    "\n",
    "**Fonctions à utiliser** :  \n",
    "- `items()` : Pour itérer sur les paires clé-valeur.  \n",
    "- `isinstance()` : Pour vérifier si une valeur est un dictionnaire (pour la récursivité).  \n",
    "- `append()` : Pour construire la liste de tuples.  \n"
   ]
  },
  {
   "cell_type": "code",
   "execution_count": 46,
   "id": "4e53008b",
   "metadata": {},
   "outputs": [
    {
     "ename": "AttributeError",
     "evalue": "'str' object has no attribute 'k'",
     "output_type": "error",
     "traceback": [
      "\u001b[31m---------------------------------------------------------------------------\u001b[39m",
      "\u001b[31mAttributeError\u001b[39m                            Traceback (most recent call last)",
      "\u001b[36mCell\u001b[39m\u001b[36m \u001b[39m\u001b[32mIn[46]\u001b[39m\u001b[32m, line 12\u001b[39m\n\u001b[32m      9\u001b[39m             lstRslt[x]=y\n\u001b[32m     11\u001b[39m     \u001b[38;5;28mprint\u001b[39m(lstRslt)\n\u001b[32m---> \u001b[39m\u001b[32m12\u001b[39m \u001b[43maplatir\u001b[49m\u001b[43m(\u001b[49m\u001b[43mdic\u001b[49m\u001b[43m)\u001b[49m \n",
      "\u001b[36mCell\u001b[39m\u001b[36m \u001b[39m\u001b[32mIn[46]\u001b[39m\u001b[32m, line 7\u001b[39m, in \u001b[36maplatir\u001b[39m\u001b[34m(dic)\u001b[39m\n\u001b[32m      5\u001b[39m \u001b[38;5;28;01mif\u001b[39;00m \u001b[38;5;28misinstance\u001b[39m(y , \u001b[38;5;28mdict\u001b[39m) :\n\u001b[32m      6\u001b[39m     \u001b[38;5;28;01mfor\u001b[39;00m k ,h \u001b[38;5;129;01min\u001b[39;00m y.items():\n\u001b[32m----> \u001b[39m\u001b[32m7\u001b[39m         lstRslt[\u001b[43mx\u001b[49m\u001b[43m.\u001b[49m\u001b[43mk\u001b[49m]=h\n\u001b[32m      8\u001b[39m \u001b[38;5;28;01melse\u001b[39;00m :\n\u001b[32m      9\u001b[39m     lstRslt[x]=y\n",
      "\u001b[31mAttributeError\u001b[39m: 'str' object has no attribute 'k'"
     ]
    }
   ],
   "source": [
    "dic = {'a': 1, 'b': {'c': 2, 'd': 3}}\n",
    "def aplatir(dic) :\n",
    "    lstRslt ={}\n",
    "    for x , y in dic.items():\n",
    "        if isinstance(y , dict) :\n",
    "            for k ,h in y.items():\n",
    "                lstRslt[x.k]=h\n",
    "        else :\n",
    "            lstRslt[x]=y\n",
    "\n",
    "    print(lstRslt)\n",
    "aplatir(dic) \n"
   ]
  },
  {
   "cell_type": "code",
   "execution_count": 2,
   "id": "6d186a2c",
   "metadata": {},
   "outputs": [
    {
     "name": "stdout",
     "output_type": "stream",
     "text": [
      "[('a', 1), ('b.c', 2), ('b.d', 3)]\n"
     ]
    }
   ],
   "source": [
    "def aplatir_dictionnaire(d, prefixe=''):\n",
    "    rslt = []\n",
    "    for x, y in d.items():\n",
    "        if prefixe:\n",
    "            nc = prefixe + '.' + x\n",
    "        else:\n",
    "            nc = x\n",
    "        if isinstance(y, dict):\n",
    "            sous_rslt = aplatir_dictionnaire(y, nc)\n",
    "            rslt += sous_rslt  \n",
    "        else:\n",
    "            rslt.append((nc, y))\n",
    "    return rslt\n",
    "\n",
    "d = {'a': 1, 'b': {'c': 2, 'd': 3}}\n",
    "print(aplatir_dictionnaire(d))\n",
    "\n"
   ]
  },
  {
   "cell_type": "code",
   "execution_count": null,
   "id": "081818d8",
   "metadata": {},
   "outputs": [],
   "source": []
  }
 ],
 "metadata": {
  "kernelspec": {
   "display_name": "Python 3",
   "language": "python",
   "name": "python3"
  },
  "language_info": {
   "codemirror_mode": {
    "name": "ipython",
    "version": 3
   },
   "file_extension": ".py",
   "mimetype": "text/x-python",
   "name": "python",
   "nbconvert_exporter": "python",
   "pygments_lexer": "ipython3",
   "version": "3.13.7"
  }
 },
 "nbformat": 4,
 "nbformat_minor": 5
}
